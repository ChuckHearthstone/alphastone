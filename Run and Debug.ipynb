{
 "cells": [
  {
   "cell_type": "code",
   "execution_count": 2,
   "metadata": {},
   "outputs": [],
   "source": [
    "%matplotlib inline\n",
    "%reload_ext autoreload\n",
    "%autoreload 2"
   ]
  },
  {
   "cell_type": "code",
   "execution_count": 3,
   "metadata": {},
   "outputs": [],
   "source": [
    "from bot.trainer import Trainer\n",
    "from bot.interface import Board, SelfPlay\n",
    "from bot.PureMCTS_Benchmark import MCTSPlayer as MCTS_Bench\n",
    "from bot.MCTS import MCTSPlayer\n",
    "from bot.dqn import PolicyEvaluator\n",
    "from fireplace.utils import *\n",
    "import numpy as np"
   ]
  },
  {
   "cell_type": "code",
   "execution_count": 4,
   "metadata": {
    "scrolled": true
   },
   "outputs": [
    {
     "ename": "NameError",
     "evalue": "name 'ResLayer' is not defined",
     "output_type": "error",
     "traceback": [
      "\u001b[0;31m---------------------------------------------------------------------------\u001b[0m",
      "\u001b[0;31mNameError\u001b[0m                                 Traceback (most recent call last)",
      "\u001b[0;32m<ipython-input-4-4d52d3edcc53>\u001b[0m in \u001b[0;36m<module>\u001b[0;34m()\u001b[0m\n\u001b[0;32m----> 1\u001b[0;31m \u001b[0mtrain\u001b[0m \u001b[0;34m=\u001b[0m \u001b[0mTrainer\u001b[0m\u001b[0;34m(\u001b[0m\u001b[0;34m)\u001b[0m\u001b[0;34m\u001b[0m\u001b[0m\n\u001b[0m",
      "\u001b[0;32m~/hearthai/hearthbot/bot/trainer.py\u001b[0m in \u001b[0;36m__init__\u001b[0;34m(self, init_model)\u001b[0m\n\u001b[1;32m     74\u001b[0m             \u001b[0;31m# start training from a new policy-value net\u001b[0m\u001b[0;34m\u001b[0m\u001b[0;34m\u001b[0m\u001b[0m\n\u001b[1;32m     75\u001b[0m             self.policy_value_net = PolicyEvaluator(self.dqn_layers,\n\u001b[0;32m---> 76\u001b[0;31m                                                    self.board)\n\u001b[0m\u001b[1;32m     77\u001b[0m         self.mcts_player = MCTSPlayer(self.policy_value_net.policy_value_fn,\n\u001b[1;32m     78\u001b[0m                                       \u001b[0mc_puct\u001b[0m\u001b[0;34m=\u001b[0m\u001b[0mself\u001b[0m\u001b[0;34m.\u001b[0m\u001b[0mc_puct\u001b[0m\u001b[0;34m,\u001b[0m\u001b[0;34m\u001b[0m\u001b[0m\n",
      "\u001b[0;32m~/hearthai/hearthbot/bot/dqn.py\u001b[0m in \u001b[0;36m__init__\u001b[0;34m(self, layers, board, model_file)\u001b[0m\n\u001b[1;32m     87\u001b[0m         \u001b[0mself\u001b[0m\u001b[0;34m.\u001b[0m\u001b[0mstate_size\u001b[0m \u001b[0;34m=\u001b[0m \u001b[0mboard\u001b[0m\u001b[0;34m.\u001b[0m\u001b[0mstate\u001b[0m\u001b[0;34m.\u001b[0m\u001b[0msize\u001b[0m\u001b[0;34m\u001b[0m\u001b[0m\n\u001b[1;32m     88\u001b[0m         \u001b[0mself\u001b[0m\u001b[0;34m.\u001b[0m\u001b[0mweight_decay\u001b[0m \u001b[0;34m=\u001b[0m \u001b[0;36m1e-4\u001b[0m\u001b[0;34m\u001b[0m\u001b[0m\n\u001b[0;32m---> 89\u001b[0;31m         \u001b[0mself\u001b[0m\u001b[0;34m.\u001b[0m\u001b[0mpolicy_value_net\u001b[0m \u001b[0;34m=\u001b[0m \u001b[0mDQN\u001b[0m\u001b[0;34m(\u001b[0m\u001b[0mlayers\u001b[0m\u001b[0;34m,\u001b[0m \u001b[0mboard\u001b[0m\u001b[0;34m)\u001b[0m\u001b[0;34m.\u001b[0m\u001b[0mcuda\u001b[0m\u001b[0;34m(\u001b[0m\u001b[0;34m)\u001b[0m\u001b[0;34m\u001b[0m\u001b[0m\n\u001b[0m\u001b[1;32m     90\u001b[0m         self.optimizer = optim.Adam(self.policy_value_net.parameters(),\n\u001b[1;32m     91\u001b[0m                             weight_decay=self.weight_decay)\n",
      "\u001b[0;32m~/hearthai/hearthbot/bot/dqn.py\u001b[0m in \u001b[0;36m__init__\u001b[0;34m(self, layers, board)\u001b[0m\n\u001b[1;32m     42\u001b[0m         \u001b[0;31m#residual layers (40?)\u001b[0m\u001b[0;34m\u001b[0m\u001b[0;34m\u001b[0m\u001b[0m\n\u001b[1;32m     43\u001b[0m         self.layers1 = nn.ModuleList([ResBlock(layers[i], layers[i+1])\n\u001b[0;32m---> 44\u001b[0;31m             for i in range(len(layers) - 1)])\n\u001b[0m\u001b[1;32m     45\u001b[0m         self.layers2 = nn.ModuleList([ResBlock(layers[i], layers[i+1])\n\u001b[1;32m     46\u001b[0m             for i in range(len(layers) - 1)])\n",
      "\u001b[0;32m~/hearthai/hearthbot/bot/dqn.py\u001b[0m in \u001b[0;36m<listcomp>\u001b[0;34m(.0)\u001b[0m\n\u001b[1;32m     42\u001b[0m         \u001b[0;31m#residual layers (40?)\u001b[0m\u001b[0;34m\u001b[0m\u001b[0;34m\u001b[0m\u001b[0m\n\u001b[1;32m     43\u001b[0m         self.layers1 = nn.ModuleList([ResBlock(layers[i], layers[i+1])\n\u001b[0;32m---> 44\u001b[0;31m             for i in range(len(layers) - 1)])\n\u001b[0m\u001b[1;32m     45\u001b[0m         self.layers2 = nn.ModuleList([ResBlock(layers[i], layers[i+1])\n\u001b[1;32m     46\u001b[0m             for i in range(len(layers) - 1)])\n",
      "\u001b[0;32m~/hearthai/hearthbot/bot/dqn.py\u001b[0m in \u001b[0;36m__init__\u001b[0;34m(self, ni, nf, stride, kernel_size)\u001b[0m\n\u001b[1;32m     14\u001b[0m \u001b[0;32mclass\u001b[0m \u001b[0mResBlock\u001b[0m\u001b[0;34m(\u001b[0m\u001b[0mnn\u001b[0m\u001b[0;34m.\u001b[0m\u001b[0mModule\u001b[0m\u001b[0;34m)\u001b[0m\u001b[0;34m:\u001b[0m\u001b[0;34m\u001b[0m\u001b[0m\n\u001b[1;32m     15\u001b[0m     \u001b[0;32mdef\u001b[0m \u001b[0m__init__\u001b[0m\u001b[0;34m(\u001b[0m\u001b[0mself\u001b[0m\u001b[0;34m,\u001b[0m \u001b[0mni\u001b[0m\u001b[0;34m,\u001b[0m \u001b[0mnf\u001b[0m\u001b[0;34m,\u001b[0m \u001b[0mstride\u001b[0m\u001b[0;34m=\u001b[0m\u001b[0;36m2\u001b[0m\u001b[0;34m,\u001b[0m \u001b[0mkernel_size\u001b[0m\u001b[0;34m=\u001b[0m\u001b[0;36m3\u001b[0m\u001b[0;34m)\u001b[0m\u001b[0;34m:\u001b[0m\u001b[0;34m\u001b[0m\u001b[0m\n\u001b[0;32m---> 16\u001b[0;31m         \u001b[0msuper\u001b[0m\u001b[0;34m(\u001b[0m\u001b[0mResLayer\u001b[0m\u001b[0;34m,\u001b[0m \u001b[0mself\u001b[0m\u001b[0;34m)\u001b[0m\u001b[0;34m.\u001b[0m\u001b[0m__init__\u001b[0m\u001b[0;34m(\u001b[0m\u001b[0;34m)\u001b[0m\u001b[0;34m\u001b[0m\u001b[0m\n\u001b[0m\u001b[1;32m     17\u001b[0m \u001b[0;34m\u001b[0m\u001b[0m\n\u001b[1;32m     18\u001b[0m         self.conv1 = nn.Conv2d(ni, nf, stride=stride, \n",
      "\u001b[0;31mNameError\u001b[0m: name 'ResLayer' is not defined"
     ]
    }
   ],
   "source": [
    "train = Trainer()"
   ]
  },
  {
   "cell_type": "code",
   "execution_count": 5,
   "metadata": {
    "scrolled": true
   },
   "outputs": [],
   "source": [
    "board = Board()"
   ]
  },
  {
   "cell_type": "code",
   "execution_count": 6,
   "metadata": {},
   "outputs": [
    {
     "name": "stderr",
     "output_type": "stream",
     "text": [
      "[fireplace.__init__]: Initializing card database\n",
      "[fireplace.__init__]: Merged 4139 cards\n"
     ]
    }
   ],
   "source": [
    "board.init_envi()"
   ]
  },
  {
   "cell_type": "code",
   "execution_count": 7,
   "metadata": {},
   "outputs": [
    {
     "name": "stderr",
     "output_type": "stream",
     "text": [
      "[fireplace.entity]: Setting up game Game(players=[Player(name='Player1', hero=None), Player(name='Player2', hero=None)])\n",
      "[fireplace.entity]: Tossing the coin... Player1 wins!\n",
      "[fireplace.actions]: Player(name='Player1', hero=<Hero ('Anduin Wrynn')>) triggering <TargetedAction: Summon(<Summon.CARD>=<HeroPower ('Lesser Heal')>)> targeting [Player(name='Player1', hero=<Hero ('Anduin Wrynn')>)]\n",
      "[fireplace.actions]: Player1 summons [<HeroPower ('Lesser Heal')>]\n",
      "[fireplace.entity]: Empty stack, refreshing auras and processing deaths\n",
      "[fireplace.actions]: Player(name='Player1', hero=<Hero ('Anduin Wrynn')>) triggering <TargetedAction: Summon(<Summon.CARD>=<Hero ('Anduin Wrynn')>)> targeting [Player(name='Player1', hero=<Hero ('Anduin Wrynn')>)]\n",
      "[fireplace.actions]: Player1 summons [<Hero ('Anduin Wrynn')>]\n",
      "[fireplace.entity]: Empty stack, refreshing auras and processing deaths\n",
      "[fireplace.entity]: Player(name='Player1', hero=<Hero ('Anduin Wrynn')>) shuffles their deck\n",
      "[fireplace.card]: <Spell ('Awaken the Makers')> moves from <Zone.DECK: 2> to <Zone.HAND: 3>\n",
      "[fireplace.card]: <Spell ('Dragonfire Potion')> moves from <Zone.DECK: 2> to <Zone.HAND: 3>\n",
      "[fireplace.card]: <Minion ('Wyrmrest Agent')> moves from <Zone.DECK: 2> to <Zone.HAND: 3>\n",
      "[fireplace.actions]: Player(name='Player2', hero=<Hero ('Valeera Sanguinar')>) triggering <TargetedAction: Summon(<Summon.CARD>=<HeroPower ('Dagger Mastery')>)> targeting [Player(name='Player2', hero=<Hero ('Valeera Sanguinar')>)]\n",
      "[fireplace.actions]: Player2 summons [<HeroPower ('Dagger Mastery')>]\n",
      "[fireplace.entity]: Empty stack, refreshing auras and processing deaths\n",
      "[fireplace.actions]: Player(name='Player2', hero=<Hero ('Valeera Sanguinar')>) triggering <TargetedAction: Summon(<Summon.CARD>=<Hero ('Valeera Sanguinar')>)> targeting [Player(name='Player2', hero=<Hero ('Valeera Sanguinar')>)]\n",
      "[fireplace.actions]: Player2 summons [<Hero ('Valeera Sanguinar')>]\n",
      "[fireplace.entity]: Empty stack, refreshing auras and processing deaths\n",
      "[fireplace.entity]: Player(name='Player2', hero=<Hero ('Valeera Sanguinar')>) shuffles their deck\n",
      "[fireplace.card]: <Minion ('Ethereal Peddler')> moves from <Zone.DECK: 2> to <Zone.HAND: 3>\n",
      "[fireplace.card]: <Spell ('Razorpetal Volley')> moves from <Zone.DECK: 2> to <Zone.HAND: 3>\n",
      "[fireplace.card]: <Spell ('Conceal')> moves from <Zone.DECK: 2> to <Zone.HAND: 3>\n",
      "[fireplace.card]: <Spell ('Vanish')> moves from <Zone.DECK: 2> to <Zone.HAND: 3>\n",
      "[fireplace.entity]: Entering mulligan phase\n",
      "[fireplace.entity]: Empty stack, refreshing auras and processing deaths\n",
      "[fireplace.entity]: Player(name='Player1', hero=<Hero ('Anduin Wrynn')>) shuffles their deck\n",
      "[fireplace.entity]: Empty stack, refreshing auras and processing deaths\n",
      "[fireplace.entity]: Player(name='Player2', hero=<Hero ('Valeera Sanguinar')>) shuffles their deck\n",
      "[fireplace.entity]: Player2 gets The Coin (GAME_005)\n",
      "[fireplace.actions]: Player(name='Player2', hero=<Hero ('Valeera Sanguinar')>) triggering <TargetedAction: Give(<Give.CARD>='GAME_005')> targeting [Player(name='Player2', hero=<Hero ('Valeera Sanguinar')>)]\n",
      "[fireplace.actions]: Giving [<Spell ('The Coin')>] to Player2\n",
      "[fireplace.card]: <Spell ('The Coin')> moves from <Zone.SETASIDE: 6> to <Zone.HAND: 3>\n",
      "[fireplace.entity]: Empty stack, refreshing auras and processing deaths\n",
      "[fireplace.entity]: Player1 begins turn 1\n",
      "[fireplace.entity]: Player1 is now at 1 mana crystals\n",
      "[fireplace.actions]: Player(name='Player1', hero=<Hero ('Anduin Wrynn')>) triggering <TargetedAction: Draw()> targeting [Player(name='Player1', hero=<Hero ('Anduin Wrynn')>)]\n",
      "[fireplace.entity]: Player1 draws <Minion ('Curious Glimmerroot')>\n",
      "[fireplace.card]: <Minion ('Curious Glimmerroot')> moves from <Zone.DECK: 2> to <Zone.HAND: 3>\n",
      "[fireplace.entity]: Empty stack, refreshing auras and processing deaths\n"
     ]
    }
   ],
   "source": [
    "game = board.init_game()"
   ]
  },
  {
   "cell_type": "code",
   "execution_count": 8,
   "metadata": {},
   "outputs": [
    {
     "name": "stdout",
     "output_type": "stream",
     "text": [
      "0 Ethereal Peddler\n",
      "1 Razorpetal Volley\n",
      "2 Conceal\n",
      "3 Vanish\n",
      "4 The Coin\n"
     ]
    }
   ],
   "source": [
    "for index, card in enumerate(board.players[1].hand):\n",
    "    print(index, card)"
   ]
  },
  {
   "cell_type": "code",
   "execution_count": 13,
   "metadata": {},
   "outputs": [],
   "source": [
    "state = board.get_state()"
   ]
  },
  {
   "cell_type": "code",
   "execution_count": 14,
   "metadata": {},
   "outputs": [
    {
     "data": {
      "text/plain": [
       "array([ 0,  0,  0,  0,  0,  1,  1,  0,  0,  0,  0,  0,  0,  0,  0,  1,  1,\n",
       "        0,  0,  0, 30, 30,  0,  0,  1,  0,  0,  0,  0,  0,  0,  0,  4,  0,\n",
       "        0,  0,  0,  0,  0,  0,  0,  0,  0,  0,  0,  0,  0,  0,  0,  0,  0,\n",
       "        0,  0,  0,  0,  0,  0,  0,  0,  0,  0,  0,  0,  0,  0,  0,  0,  0,\n",
       "        0,  0,  0,  0,  0,  0,  0,  0,  0,  0,  0,  0,  0,  0,  0,  0,  0,\n",
       "        0,  0,  0,  0,  0,  0,  0,  0,  0,  0,  0,  0,  0,  0,  0,  0,  0,\n",
       "        0,  0,  0,  0,  0,  0,  0,  0,  0,  0,  0,  0,  0,  0,  0,  0,  0,\n",
       "        0,  0,  0,  0,  0,  0,  0,  0,  0,  0,  0,  0,  0,  0,  0,  0,  0,\n",
       "        0,  0,  0,  0,  0,  0,  0,  0,  0,  0,  0,  0,  0,  0,  0,  0,  0,\n",
       "        0,  0,  0,  0,  0,  0,  0,  0,  0,  0,  0,  0,  0,  0,  0,  0,  0,\n",
       "        0,  0,  0,  1,  1,  6,  0,  0,  0,  0,  0,  5,  1,  0,  0,  0,  0,\n",
       "        0,  0,  1,  2,  1,  0,  0,  0,  0,  0,  0,  1,  1,  1,  0,  0,  0,\n",
       "        0,  0,  0,  1,  6,  1,  0,  0,  0,  0,  0,  0,  1,  0,  0,  0,  0,\n",
       "        0,  0,  0,  0,  0,  0,  0,  0,  0,  0,  0,  0,  0,  0,  0,  0,  0,\n",
       "        0,  0,  0,  0,  0,  0,  0,  0,  0,  0,  0,  0,  0,  0,  0,  0,  0,\n",
       "        0,  0,  0,  0,  0,  0,  0,  0,  0,  0,  0,  0,  0,  1,  1,  0,  0,\n",
       "        0,  0,  0,  0,  0,  0,  1,  1,  0,  0,  0, 30, 30,  0,  0,  1,  0,\n",
       "        0,  0,  0,  0,  0,  0,  4,  0,  0,  0,  0,  0,  0,  0,  0,  0,  0,\n",
       "        0,  0,  0,  0,  0,  0,  0,  0,  0,  0,  0,  0,  0,  0,  0,  0,  0,\n",
       "        0,  0,  0,  0,  0,  0,  0,  0,  0,  0,  0,  0,  0,  0,  0,  0,  0,\n",
       "        0,  0,  0,  0,  0,  0,  0,  0,  0,  0,  0,  0,  0,  0,  0,  0,  0,\n",
       "        0,  0,  0,  0,  0,  0,  0,  0,  0,  0,  0,  0,  0,  0,  0,  0,  0,\n",
       "        0,  0,  0,  0,  0,  0,  0,  0,  0,  0,  0,  0,  0,  0,  0,  0,  0,\n",
       "        0,  0,  0,  0,  0,  0,  0,  0,  0,  0,  0,  0,  0,  0,  0,  0,  0,\n",
       "        0,  0,  0,  0,  0,  0,  0,  0,  0,  0,  0,  0,  0,  0,  0,  0,  0,\n",
       "        0,  0,  0,  0,  0,  0,  0,  0,  0,  0,  0,  1,  1,  6,  0,  0,  0,\n",
       "        0,  0,  5,  1,  0,  0,  0,  0,  0,  0,  1,  2,  1,  0,  0,  0,  0,\n",
       "        0,  0,  1,  1,  1,  0,  0,  0,  0,  0,  0,  1,  6,  1,  0,  0,  0,\n",
       "        0,  0,  0,  1,  0,  0,  0,  0,  0,  0,  0,  0,  0,  0,  0,  0,  0,\n",
       "        0,  0,  0,  0,  0,  0,  0,  0,  0,  0,  0,  0,  0,  0,  0,  0,  0,\n",
       "        0,  0,  0,  0,  0,  0,  0,  0,  0,  0,  0,  0,  0,  0,  0,  0],\n",
       "      dtype=int32)"
      ]
     },
     "execution_count": 14,
     "metadata": {},
     "output_type": "execute_result"
    }
   ],
   "source": [
    "state"
   ]
  },
  {
   "cell_type": "code",
   "execution_count": 21,
   "metadata": {},
   "outputs": [
    {
     "data": {
      "text/plain": [
       "7"
      ]
     },
     "execution_count": 21,
     "metadata": {},
     "output_type": "execute_result"
    }
   ],
   "source": [
    "actions = board.get_actions(board.players[1])\n",
    "len(actions)"
   ]
  },
  {
   "cell_type": "code",
   "execution_count": 25,
   "metadata": {},
   "outputs": [
    {
     "name": "stdout",
     "output_type": "stream",
     "text": [
      "Attempted to take an inappropriate action!\n",
      "\n",
      "[('summon', 1, None, None), ('summon', 2, None, None), ('summon', 3, None, None), ('spell', 5, <Hero ('Anduin Wrynn')>), ('spell', 5, <Hero ('Valeera Sanguinar')>), ('hero_power', None, None), ('end_turn', None, None)]\n"
     ]
    }
   ],
   "source": [
    "board.perform_action(actions, game.current_player, game)"
   ]
  },
  {
   "cell_type": "code",
   "execution_count": 12,
   "metadata": {},
   "outputs": [
    {
     "data": {
      "text/plain": [
       "263"
      ]
     },
     "execution_count": 12,
     "metadata": {},
     "output_type": "execute_result"
    }
   ],
   "source": [
    "len(state)"
   ]
  },
  {
   "cell_type": "code",
   "execution_count": 27,
   "metadata": {},
   "outputs": [],
   "source": [
    "e = game_state_to_xml(game)"
   ]
  },
  {
   "cell_type": "code",
   "execution_count": 28,
   "metadata": {},
   "outputs": [
    {
     "data": {
      "text/plain": [
       "17641"
      ]
     },
     "execution_count": 28,
     "metadata": {},
     "output_type": "execute_result"
    }
   ],
   "source": [
    "len(e)"
   ]
  },
  {
   "cell_type": "code",
   "execution_count": 29,
   "metadata": {},
   "outputs": [
    {
     "data": {
      "text/plain": [
       "b'<HSGameState><Entity><Tag enumID=\"202\" value=\"1\" /><Tag enumID=\"198\" value=\"12\" /><Tag enumID=\"204\" value=\"2\" /><Tag enumID=\"19\" value=\"10\" /><Tag enumID=\"20\" value=\"5\" /><Tag enumID=\"49\" value=\"1\" /></Entity><Entity><Tag enumID=\"202\" value=\"2\" /><Tag enumID=\"50\" value=\"2\" /><Tag enumID=\"27\" value=\"5\" /><Tag enumID=\"397\" value=\"68\" /><Tag enumID=\"28\" value=\"10\" /><Tag enumID=\"176\" value=\"10\" /><Tag enumID=\"17\" value=\"1\" /><Tag enumID=\"26\" value=\"2\" /><Tag enumID=\"29\" value=\"4\" /><Tag enumID=\"7\" value=\"75\" /><Tag enumID=\"8\" value=\"1523982778\" /></Entity><Entity><Tag enumID=\"202\" value=\"2\" /><Tag enumID=\"50\" value=\"3\" /><Tag enumID=\"23\" value=\"1\" /><Tag enumID=\"24\" value=\"1\" /><Tag enumID=\"27\" value=\"37\" /><Tag enumID=\"28\" value=\"10\" /><Tag enumID=\"176\" value=\"10\" /><Tag enumID=\"399\" value=\"1\" /><Tag enumID=\"17\" value=\"1\" /><Tag enumID=\"26\" value=\"3\" /><Tag enumID=\"29\" value=\"3\" /><Tag enumID=\"7\" value=\"75\" /><Tag enumID=\"8\" value=\"1523982816\" /></Entity><Entity CardID=\"HERO_09\"><Tag enumID=\"202\" value=\"3\" /><Tag enumID=\"199\" value=\"6\" /><Tag enumID=\"50\" value=\"2\" /><Tag enumID=\"45\" value=\"30\" /><Tag enumID=\"271\" value=\"5\" /><Tag enumID=\"203\" value=\"2\" /><Tag enumID=\"49\" value=\"1\" /></Entity><Entity CardID=\"CS1h_001\"><Tag enumID=\"202\" value=\"10\" /><Tag enumID=\"199\" value=\"6\" /><Tag enumID=\"50\" value=\"2\" /><Tag enumID=\"48\" value=\"2\" /><Tag enumID=\"203\" value=\"2\" /><Tag enumID=\"49\" value=\"1\" /></Entity><Entity CardID=\"HERO_03\"><Tag enumID=\"202\" value=\"3\" /><Tag enumID=\"199\" value=\"7\" /><Tag enumID=\"50\" value=\"3\" /><Tag enumID=\"45\" value=\"30\" /><Tag enumID=\"271\" value=\"5\" /><Tag enumID=\"203\" value=\"2\" /><Tag enumID=\"49\" value=\"1\" /></Entity><Entity CardID=\"CS2_083b\"><Tag enumID=\"202\" value=\"10\" /><Tag enumID=\"199\" value=\"7\" /><Tag enumID=\"50\" value=\"3\" /><Tag enumID=\"48\" value=\"2\" /><Tag enumID=\"203\" value=\"2\" /><Tag enumID=\"49\" value=\"1\" /></Entity><Entity CardID=\"CFM_603\"><Tag enumID=\"202\" value=\"5\" /><Tag enumID=\"199\" value=\"6\" /><Tag enumID=\"50\" value=\"2\" /><Tag enumID=\"48\" value=\"1\" /><Tag enumID=\"203\" value=\"1\" /><Tag enumID=\"49\" value=\"3\" /><Tag enumID=\"263\" value=\"1\" /></Entity><Entity CardID=\"CS1_112\"><Tag enumID=\"202\" value=\"5\" /><Tag enumID=\"199\" value=\"6\" /><Tag enumID=\"50\" value=\"2\" /><Tag enumID=\"48\" value=\"5\" /><Tag enumID=\"203\" value=\"2\" /><Tag enumID=\"49\" value=\"3\" /><Tag enumID=\"263\" value=\"2\" /></Entity><Entity CardID=\"CFM_605\"><Tag enumID=\"47\" value=\"5\" /><Tag enumID=\"218\" value=\"1\" /><Tag enumID=\"200\" value=\"24\" /><Tag enumID=\"202\" value=\"4\" /><Tag enumID=\"199\" value=\"6\" /><Tag enumID=\"50\" value=\"2\" /><Tag enumID=\"48\" value=\"5\" /><Tag enumID=\"45\" value=\"6\" /><Tag enumID=\"203\" value=\"3\" /><Tag enumID=\"49\" value=\"3\" /><Tag enumID=\"263\" value=\"3\" /></Entity><Entity CardID=\"AT_015\"><Tag enumID=\"202\" value=\"5\" /><Tag enumID=\"199\" value=\"6\" /><Tag enumID=\"50\" value=\"2\" /><Tag enumID=\"48\" value=\"2\" /><Tag enumID=\"203\" value=\"3\" /><Tag enumID=\"49\" value=\"3\" /><Tag enumID=\"263\" value=\"4\" /></Entity><Entity CardID=\"EX1_350\"><Tag enumID=\"47\" value=\"7\" /><Tag enumID=\"202\" value=\"4\" /><Tag enumID=\"199\" value=\"6\" /><Tag enumID=\"50\" value=\"2\" /><Tag enumID=\"48\" value=\"7\" /><Tag enumID=\"45\" value=\"7\" /><Tag enumID=\"203\" value=\"5\" /><Tag enumID=\"49\" value=\"3\" /><Tag enumID=\"263\" value=\"5\" /></Entity><Entity CardID=\"LOE_111\"><Tag enumID=\"202\" value=\"5\" /><Tag enumID=\"199\" value=\"6\" /><Tag enumID=\"50\" value=\"2\" /><Tag enumID=\"48\" value=\"5\" /><Tag enumID=\"203\" value=\"3\" /><Tag enumID=\"49\" value=\"3\" /><Tag enumID=\"263\" value=\"6\" /></Entity><Entity CardID=\"OG_080\"><Tag enumID=\"47\" value=\"3\" /><Tag enumID=\"218\" value=\"1\" /><Tag enumID=\"202\" value=\"4\" /><Tag enumID=\"199\" value=\"7\" /><Tag enumID=\"50\" value=\"3\" /><Tag enumID=\"48\" value=\"4\" /><Tag enumID=\"217\" value=\"1\" /><Tag enumID=\"45\" value=\"2\" /><Tag enumID=\"203\" value=\"5\" /><Tag enumID=\"49\" value=\"3\" /><Tag enumID=\"263\" value=\"1\" /></Entity><Entity CardID=\"AT_032\"><Tag enumID=\"47\" value=\"4\" /><Tag enumID=\"218\" value=\"1\" /><Tag enumID=\"202\" value=\"4\" /><Tag enumID=\"199\" value=\"7\" /><Tag enumID=\"50\" value=\"3\" /><Tag enumID=\"48\" value=\"3\" /><Tag enumID=\"45\" value=\"3\" /><Tag enumID=\"203\" value=\"3\" /><Tag enumID=\"49\" value=\"3\" /><Tag enumID=\"263\" value=\"2\" /></Entity><Entity CardID=\"CFM_693\"><Tag enumID=\"47\" value=\"2\" /><Tag enumID=\"202\" value=\"4\" /><Tag enumID=\"199\" value=\"7\" /><Tag enumID=\"220\" value=\"1\" /><Tag enumID=\"50\" value=\"3\" /><Tag enumID=\"48\" value=\"2\" /><Tag enumID=\"45\" value=\"3\" /><Tag enumID=\"203\" value=\"3\" /><Tag enumID=\"49\" value=\"3\" /><Tag enumID=\"263\" value=\"3\" /></Entity><Entity CardID=\"GVG_025\"><Tag enumID=\"47\" value=\"4\" /><Tag enumID=\"200\" value=\"23\" /><Tag enumID=\"202\" value=\"4\" /><Tag enumID=\"199\" value=\"7\" /><Tag enumID=\"50\" value=\"3\" /><Tag enumID=\"48\" value=\"2\" /><Tag enumID=\"45\" value=\"1\" /><Tag enumID=\"203\" value=\"3\" /><Tag enumID=\"49\" value=\"3\" /><Tag enumID=\"263\" value=\"4\" /></Entity><Entity CardID=\"OG_291\"><Tag enumID=\"47\" value=\"4\" /><Tag enumID=\"218\" value=\"1\" /><Tag enumID=\"202\" value=\"4\" /><Tag enumID=\"199\" value=\"7\" /><Tag enumID=\"50\" value=\"3\" /><Tag enumID=\"48\" value=\"5\" /><Tag enumID=\"45\" value=\"4\" /><Tag enumID=\"203\" value=\"4\" /><Tag enumID=\"49\" value=\"3\" /><Tag enumID=\"263\" value=\"5\" /></Entity><Entity CardID=\"EX1_124\"><Tag enumID=\"202\" value=\"5\" /><Tag enumID=\"199\" value=\"7\" /><Tag enumID=\"220\" value=\"1\" /><Tag enumID=\"50\" value=\"3\" /><Tag enumID=\"48\" value=\"2\" /><Tag enumID=\"203\" value=\"1\" /><Tag enumID=\"49\" value=\"3\" /><Tag enumID=\"263\" value=\"6\" /></Entity><Entity CardID=\"CS2_235\"><Tag enumID=\"47\" value=\"1\" /><Tag enumID=\"202\" value=\"4\" /><Tag enumID=\"199\" value=\"6\" /><Tag enumID=\"50\" value=\"2\" /><Tag enumID=\"48\" value=\"1\" /><Tag enumID=\"45\" value=\"3\" /><Tag enumID=\"203\" value=\"2\" /><Tag enumID=\"49\" value=\"2\" /></Entity><Entity CardID=\"LOE_104\"><Tag enumID=\"202\" value=\"5\" /><Tag enumID=\"199\" value=\"6\" /><Tag enumID=\"50\" value=\"2\" /><Tag enumID=\"48\" value=\"6\" /><Tag enumID=\"203\" value=\"1\" /><Tag enumID=\"49\" value=\"2\" /></Entity><Entity CardID=\"CFM_605\"><Tag enumID=\"47\" value=\"5\" /><Tag enumID=\"218\" value=\"1\" /><Tag enumID=\"200\" value=\"24\" /><Tag enumID=\"202\" value=\"4\" /><Tag enumID=\"199\" value=\"6\" /><Tag enumID=\"50\" value=\"2\" /><Tag enumID=\"48\" value=\"5\" /><Tag enumID=\"45\" value=\"6\" /><Tag enumID=\"203\" value=\"3\" /><Tag enumID=\"49\" value=\"2\" /></Entity><Entity CardID=\"EX1_622\"><Tag enumID=\"202\" value=\"5\" /><Tag enumID=\"199\" value=\"6\" /><Tag enumID=\"50\" value=\"2\" /><Tag enumID=\"48\" value=\"3\" /><Tag enumID=\"203\" value=\"2\" /><Tag enumID=\"49\" value=\"2\" /></Entity><Entity CardID=\"CS2_236\"><Tag enumID=\"202\" value=\"5\" /><Tag enumID=\"199\" value=\"6\" /><Tag enumID=\"50\" value=\"2\" /><Tag enumID=\"48\" value=\"2\" /><Tag enumID=\"203\" value=\"2\" /><Tag enumID=\"49\" value=\"2\" /></Entity><Entity CardID=\"LOE_006\"><Tag enumID=\"47\" value=\"1\" /><Tag enumID=\"218\" value=\"1\" /><Tag enumID=\"202\" value=\"4\" /><Tag enumID=\"199\" value=\"6\" /><Tag enumID=\"50\" value=\"2\" /><Tag enumID=\"48\" value=\"2\" /><Tag enumID=\"45\" value=\"2\" /><Tag enumID=\"203\" value=\"1\" /><Tag enumID=\"49\" value=\"2\" /></Entity><Entity CardID=\"CS2_236\"><Tag enumID=\"202\" value=\"5\" /><Tag enumID=\"199\" value=\"6\" /><Tag enumID=\"50\" value=\"2\" /><Tag enumID=\"48\" value=\"2\" /><Tag enumID=\"203\" value=\"2\" /><Tag enumID=\"49\" value=\"2\" /></Entity><Entity CardID=\"EX1_334\"><Tag enumID=\"202\" value=\"5\" /><Tag enumID=\"199\" value=\"6\" /><Tag enumID=\"50\" value=\"2\" /><Tag enumID=\"48\" value=\"4\" /><Tag enumID=\"203\" value=\"3\" /><Tag enumID=\"49\" value=\"2\" /></Entity><Entity CardID=\"CFM_662\"><Tag enumID=\"202\" value=\"5\" /><Tag enumID=\"199\" value=\"6\" /><Tag enumID=\"50\" value=\"2\" /><Tag enumID=\"48\" value=\"6\" /><Tag enumID=\"203\" value=\"4\" /><Tag enumID=\"49\" value=\"2\" /></Entity><Entity CardID=\"UNG_035\"><Tag enumID=\"47\" value=\"3\" /><Tag enumID=\"218\" value=\"1\" /><Tag enumID=\"202\" value=\"4\" /><Tag enumID=\"199\" value=\"6\" /><Tag enumID=\"50\" value=\"2\" /><Tag enumID=\"48\" value=\"3\" /><Tag enumID=\"45\" value=\"3\" /><Tag enumID=\"203\" value=\"4\" /><Tag enumID=\"49\" value=\"2\" /></Entity><Entity CardID=\"OG_234\"><Tag enumID=\"47\" value=\"4\" /><Tag enumID=\"218\" value=\"1\" /><Tag enumID=\"202\" value=\"4\" /><Tag enumID=\"199\" value=\"6\" /><Tag enumID=\"50\" value=\"2\" /><Tag enumID=\"48\" value=\"5\" /><Tag enumID=\"45\" value=\"5\" /><Tag enumID=\"203\" value=\"1\" /><Tag enumID=\"49\" value=\"2\" /></Entity><Entity CardID=\"LOOT_353\"><Tag enumID=\"202\" value=\"5\" /><Tag enumID=\"199\" value=\"6\" /><Tag enumID=\"50\" value=\"2\" /><Tag enumID=\"48\" value=\"1\" /><Tag enumID=\"203\" value=\"1\" /><Tag enumID=\"49\" value=\"2\" /></Entity><Entity CardID=\"OG_094\"><Tag enumID=\"202\" value=\"5\" /><Tag enumID=\"199\" value=\"6\" /><Tag enumID=\"50\" value=\"2\" /><Tag enumID=\"48\" value=\"5\" /><Tag enumID=\"203\" value=\"1\" /><Tag enumID=\"49\" value=\"2\" /></Entity><Entity CardID=\"EX1_345\"><Tag enumID=\"202\" value=\"5\" /><Tag enumID=\"199\" value=\"6\" /><Tag enumID=\"50\" value=\"2\" /><Tag enumID=\"48\" value=\"4\" /><Tag enumID=\"203\" value=\"4\" /><Tag enumID=\"49\" value=\"2\" /></Entity><Entity CardID=\"LOOT_528\"><Tag enumID=\"47\" value=\"2\" /><Tag enumID=\"218\" value=\"1\" /><Tag enumID=\"202\" value=\"4\" /><Tag enumID=\"199\" value=\"6\" /><Tag enumID=\"50\" value=\"2\" /><Tag enumID=\"48\" value=\"3\" /><Tag enumID=\"45\" value=\"4\" /><Tag enumID=\"203\" value=\"4\" /><Tag enumID=\"49\" value=\"2\" /></Entity><Entity CardID=\"UNG_032\"><Tag enumID=\"47\" value=\"1\" /><Tag enumID=\"200\" value=\"18\" /><Tag enumID=\"202\" value=\"4\" /><Tag enumID=\"199\" value=\"6\" /><Tag enumID=\"50\" value=\"2\" /><Tag enumID=\"48\" value=\"1\" /><Tag enumID=\"217\" value=\"1\" /><Tag enumID=\"45\" value=\"1\" /><Tag enumID=\"203\" value=\"3\" /><Tag enumID=\"49\" value=\"2\" /></Entity><Entity CardID=\"UNG_029\"><Tag enumID=\"202\" value=\"5\" /><Tag enumID=\"199\" value=\"6\" /><Tag enumID=\"50\" value=\"2\" /><Tag enumID=\"48\" value=\"2\" /><Tag enumID=\"203\" value=\"4\" /><Tag enumID=\"49\" value=\"2\" /></Entity><Entity CardID=\"EX1_625\"><Tag enumID=\"202\" value=\"5\" /><Tag enumID=\"199\" value=\"6\" /><Tag enumID=\"50\" value=\"2\" /><Tag enumID=\"48\" value=\"3\" /><Tag enumID=\"203\" value=\"4\" /><Tag enumID=\"49\" value=\"2\" /></Entity><Entity CardID=\"LOOT_507\"><Tag enumID=\"202\" value=\"5\" /><Tag enumID=\"199\" value=\"6\" /><Tag enumID=\"50\" value=\"2\" /><Tag enumID=\"48\" value=\"7\" /><Tag enumID=\"203\" value=\"3\" /><Tag enumID=\"49\" value=\"2\" /></Entity><Entity CardID=\"UNG_037\"><Tag enumID=\"47\" value=\"2\" /><Tag enumID=\"202\" value=\"4\" /><Tag enumID=\"199\" value=\"6\" /><Tag enumID=\"50\" value=\"2\" /><Tag enumID=\"48\" value=\"4\" /><Tag enumID=\"217\" value=\"1\" /><Tag enumID=\"45\" value=\"6\" /><Tag enumID=\"203\" value=\"1\" /><Tag enumID=\"190\" value=\"1\" /><Tag enumID=\"49\" value=\"2\" /></Entity><Entity CardID=\"ICC_207\"><Tag enumID=\"202\" value=\"5\" /><Tag enumID=\"199\" value=\"6\" /><Tag enumID=\"50\" value=\"2\" /><Tag enumID=\"48\" value=\"5\" /><Tag enumID=\"203\" value=\"3\" /><Tag enumID=\"49\" value=\"2\" /></Entity><Entity CardID=\"AT_018\"><Tag enumID=\"47\" value=\"5\" /><Tag enumID=\"202\" value=\"4\" /><Tag enumID=\"199\" value=\"6\" /><Tag enumID=\"50\" value=\"2\" /><Tag enumID=\"48\" value=\"7\" /><Tag enumID=\"45\" value=\"4\" /><Tag enumID=\"403\" value=\"1\" /><Tag enumID=\"203\" value=\"5\" /><Tag enumID=\"49\" value=\"2\" /></Entity><Entity CardID=\"ICC_212\"><Tag enumID=\"47\" value=\"3\" /><Tag enumID=\"202\" value=\"4\" /><Tag enumID=\"199\" value=\"6\" /><Tag enumID=\"50\" value=\"2\" /><Tag enumID=\"48\" value=\"3\" /><Tag enumID=\"45\" value=\"3\" /><Tag enumID=\"203\" value=\"1\" /><Tag enumID=\"49\" value=\"2\" /></Entity><Entity CardID=\"EX1_622\"><Tag enumID=\"202\" value=\"5\" /><Tag enumID=\"199\" value=\"6\" /><Tag enumID=\"50\" value=\"2\" /><Tag enumID=\"48\" value=\"3\" /><Tag enumID=\"203\" value=\"2\" /><Tag enumID=\"49\" value=\"2\" /></Entity><Entity CardID=\"AT_029\"><Tag enumID=\"47\" value=\"2\" /><Tag enumID=\"200\" value=\"23\" /><Tag enumID=\"202\" value=\"4\" /><Tag enumID=\"199\" value=\"7\" /><Tag enumID=\"50\" value=\"3\" /><Tag enumID=\"48\" value=\"1\" /><Tag enumID=\"45\" value=\"1\" /><Tag enumID=\"203\" value=\"1\" /><Tag enumID=\"49\" value=\"2\" /></Entity><Entity CardID=\"FP1_026\"><Tag enumID=\"47\" value=\"5\" /><Tag enumID=\"202\" value=\"4\" /><Tag enumID=\"199\" value=\"7\" /><Tag enumID=\"50\" value=\"3\" /><Tag enumID=\"48\" value=\"4\" /><Tag enumID=\"217\" value=\"1\" /><Tag enumID=\"45\" value=\"5\" /><Tag enumID=\"203\" value=\"1\" /><Tag enumID=\"49\" value=\"2\" /></Entity><Entity CardID=\"ICC_850\"><Tag enumID=\"47\" value=\"3\" /><Tag enumID=\"218\" value=\"1\" /><Tag enumID=\"202\" value=\"7\" /><Tag enumID=\"199\" value=\"7\" /><Tag enumID=\"50\" value=\"3\" /><Tag enumID=\"48\" value=\"3\" /><Tag enumID=\"187\" value=\"2\" /><Tag enumID=\"203\" value=\"3\" /><Tag enumID=\"49\" value=\"2\" /></Entity><Entity CardID=\"EX1_145\"><Tag enumID=\"202\" value=\"5\" /><Tag enumID=\"199\" value=\"7\" /><Tag enumID=\"50\" value=\"3\" /><Tag enumID=\"203\" value=\"4\" /><Tag enumID=\"49\" value=\"2\" /></Entity><Entity CardID=\"FP1_026\"><Tag enumID=\"47\" value=\"5\" /><Tag enumID=\"202\" value=\"4\" /><Tag enumID=\"199\" value=\"7\" /><Tag enumID=\"50\" value=\"3\" /><Tag enumID=\"48\" value=\"4\" /><Tag enumID=\"217\" value=\"1\" /><Tag enumID=\"45\" value=\"5\" /><Tag enumID=\"203\" value=\"1\" /><Tag enumID=\"49\" value=\"2\" /></Entity><Entity CardID=\"EX1_145\"><Tag enumID=\"202\" value=\"5\" /><Tag enumID=\"199\" value=\"7\" /><Tag enumID=\"50\" value=\"3\" /><Tag enumID=\"203\" value=\"4\" /><Tag enumID=\"49\" value=\"2\" /></Entity><Entity CardID=\"UNG_061\"><Tag enumID=\"47\" value=\"3\" /><Tag enumID=\"202\" value=\"7\" /><Tag enumID=\"199\" value=\"7\" /><Tag enumID=\"50\" value=\"3\" /><Tag enumID=\"48\" value=\"4\" /><Tag enumID=\"187\" value=\"3\" /><Tag enumID=\"203\" value=\"3\" /><Tag enumID=\"49\" value=\"2\" /></Entity><Entity CardID=\"EX1_613\"><Tag enumID=\"47\" value=\"2\" /><Tag enumID=\"202\" value=\"4\" /><Tag enumID=\"199\" value=\"7\" /><Tag enumID=\"220\" value=\"1\" /><Tag enumID=\"50\" value=\"3\" /><Tag enumID=\"48\" value=\"3\" /><Tag enumID=\"45\" value=\"2\" /><Tag enumID=\"203\" value=\"5\" /><Tag enumID=\"49\" value=\"2\" /></Entity><Entity CardID=\"LOOT_542\"><Tag enumID=\"47\" value=\"1\" /><Tag enumID=\"202\" value=\"7\" /><Tag enumID=\"199\" value=\"7\" /><Tag enumID=\"50\" value=\"3\" /><Tag enumID=\"48\" value=\"1\" /><Tag enumID=\"217\" value=\"1\" /><Tag enumID=\"187\" value=\"6\" /><Tag enumID=\"45\" value=\"3\" /><Tag enumID=\"203\" value=\"5\" /><Tag enumID=\"49\" value=\"2\" /></Entity><Entity CardID=\"OG_073\"><Tag enumID=\"202\" value=\"5\" /><Tag enumID=\"199\" value=\"7\" /><Tag enumID=\"50\" value=\"3\" /><Tag enumID=\"48\" value=\"6\" /><Tag enumID=\"203\" value=\"3\" /><Tag enumID=\"49\" value=\"2\" /></Entity><Entity CardID=\"UNG_067\"><Tag enumID=\"202\" value=\"5\" /><Tag enumID=\"199\" value=\"7\" /><Tag enumID=\"50\" value=\"3\" /><Tag enumID=\"48\" value=\"1\" /><Tag enumID=\"203\" value=\"5\" /><Tag enumID=\"49\" value=\"2\" /></Entity><Entity CardID=\"UNG_063\"><Tag enumID=\"47\" value=\"1\" /><Tag enumID=\"202\" value=\"4\" /><Tag enumID=\"199\" value=\"7\" /><Tag enumID=\"220\" value=\"1\" /><Tag enumID=\"50\" value=\"3\" /><Tag enumID=\"48\" value=\"2\" /><Tag enumID=\"45\" value=\"1\" /><Tag enumID=\"203\" value=\"4\" /><Tag enumID=\"49\" value=\"2\" /></Entity><Entity CardID=\"AT_030\"><Tag enumID=\"47\" value=\"3\" /><Tag enumID=\"202\" value=\"4\" /><Tag enumID=\"199\" value=\"7\" /><Tag enumID=\"220\" value=\"1\" /><Tag enumID=\"50\" value=\"3\" /><Tag enumID=\"48\" value=\"2\" /><Tag enumID=\"45\" value=\"2\" /><Tag enumID=\"203\" value=\"1\" /><Tag enumID=\"49\" value=\"2\" /></Entity><Entity CardID=\"CS2_074\"><Tag enumID=\"202\" value=\"5\" /><Tag enumID=\"199\" value=\"7\" /><Tag enumID=\"50\" value=\"3\" /><Tag enumID=\"48\" value=\"1\" /><Tag enumID=\"203\" value=\"2\" /><Tag enumID=\"49\" value=\"2\" /></Entity><Entity CardID=\"AT_032\"><Tag enumID=\"47\" value=\"4\" /><Tag enumID=\"218\" value=\"1\" /><Tag enumID=\"202\" value=\"4\" /><Tag enumID=\"199\" value=\"7\" /><Tag enumID=\"50\" value=\"3\" /><Tag enumID=\"48\" value=\"3\" /><Tag enumID=\"45\" value=\"3\" /><Tag enumID=\"203\" value=\"3\" /><Tag enumID=\"49\" value=\"2\" /></Entity><Entity CardID=\"GVG_025\"><Tag enumID=\"47\" value=\"4\" /><Tag enumID=\"200\" value=\"23\" /><Tag enumID=\"202\" value=\"4\" /><Tag enumID=\"199\" value=\"7\" /><Tag enumID=\"50\" value=\"3\" /><Tag enumID=\"48\" value=\"2\" /><Tag enumID=\"45\" value=\"1\" /><Tag enumID=\"203\" value=\"3\" /><Tag enumID=\"49\" value=\"2\" /></Entity><Entity CardID=\"AT_035\"><Tag enumID=\"202\" value=\"5\" /><Tag enumID=\"199\" value=\"7\" /><Tag enumID=\"50\" value=\"3\" /><Tag enumID=\"48\" value=\"3\" /><Tag enumID=\"203\" value=\"4\" /><Tag enumID=\"49\" value=\"2\" /></Entity><Entity CardID=\"EX1_278\"><Tag enumID=\"202\" value=\"5\" /><Tag enumID=\"199\" value=\"7\" /><Tag enumID=\"50\" value=\"3\" /><Tag enumID=\"48\" value=\"2\" /><Tag enumID=\"203\" value=\"2\" /><Tag enumID=\"49\" value=\"2\" /></Entity><Entity CardID=\"UNG_823\"><Tag enumID=\"202\" value=\"5\" /><Tag enumID=\"199\" value=\"7\" /><Tag enumID=\"50\" value=\"3\" /><Tag enumID=\"48\" value=\"3\" /><Tag enumID=\"203\" value=\"3\" /><Tag enumID=\"49\" value=\"2\" /></Entity><Entity CardID=\"CS2_076\"><Tag enumID=\"202\" value=\"5\" /><Tag enumID=\"199\" value=\"7\" /><Tag enumID=\"50\" value=\"3\" /><Tag enumID=\"48\" value=\"5\" /><Tag enumID=\"203\" value=\"2\" /><Tag enumID=\"49\" value=\"2\" /></Entity><Entity CardID=\"CS2_077\"><Tag enumID=\"202\" value=\"5\" /><Tag enumID=\"199\" value=\"7\" /><Tag enumID=\"50\" value=\"3\" /><Tag enumID=\"48\" value=\"7\" /><Tag enumID=\"203\" value=\"2\" /><Tag enumID=\"49\" value=\"2\" /></Entity><Entity CardID=\"EX1_131\"><Tag enumID=\"47\" value=\"2\" /><Tag enumID=\"202\" value=\"4\" /><Tag enumID=\"199\" value=\"7\" /><Tag enumID=\"220\" value=\"1\" /><Tag enumID=\"50\" value=\"3\" /><Tag enumID=\"48\" value=\"2\" /><Tag enumID=\"45\" value=\"2\" /><Tag enumID=\"203\" value=\"1\" /><Tag enumID=\"49\" value=\"2\" /></Entity><Entity CardID=\"AT_034\"><Tag enumID=\"47\" value=\"1\" /><Tag enumID=\"202\" value=\"7\" /><Tag enumID=\"199\" value=\"7\" /><Tag enumID=\"50\" value=\"3\" /><Tag enumID=\"48\" value=\"4\" /><Tag enumID=\"187\" value=\"3\" /><Tag enumID=\"203\" value=\"4\" /><Tag enumID=\"49\" value=\"2\" /></Entity><Entity CardID=\"KAR_094\"><Tag enumID=\"47\" value=\"3\" /><Tag enumID=\"202\" value=\"4\" /><Tag enumID=\"199\" value=\"7\" /><Tag enumID=\"50\" value=\"3\" /><Tag enumID=\"48\" value=\"3\" /><Tag enumID=\"217\" value=\"1\" /><Tag enumID=\"45\" value=\"2\" /><Tag enumID=\"203\" value=\"1\" /><Tag enumID=\"49\" value=\"2\" /></Entity></HSGameState>'"
      ]
     },
     "execution_count": 29,
     "metadata": {},
     "output_type": "execute_result"
    }
   ],
   "source": [
    "e"
   ]
  },
  {
   "cell_type": "code",
   "execution_count": 30,
   "metadata": {},
   "outputs": [],
   "source": [
    "class test:\n",
    "    def __init__(self):\n",
    "        self.game = []\n",
    "        \n",
    "    def append_game(self):\n",
    "        a = \"bleh\"\n",
    "        self.game.append(a)\n",
    "        return self.game"
   ]
  },
  {
   "cell_type": "code",
   "execution_count": 31,
   "metadata": {},
   "outputs": [],
   "source": [
    "test = test()"
   ]
  },
  {
   "cell_type": "code",
   "execution_count": 32,
   "metadata": {},
   "outputs": [
    {
     "data": {
      "text/plain": [
       "[]"
      ]
     },
     "execution_count": 32,
     "metadata": {},
     "output_type": "execute_result"
    }
   ],
   "source": [
    "test.game"
   ]
  },
  {
   "cell_type": "code",
   "execution_count": 33,
   "metadata": {},
   "outputs": [
    {
     "data": {
      "text/plain": [
       "['bleh']"
      ]
     },
     "execution_count": 33,
     "metadata": {},
     "output_type": "execute_result"
    }
   ],
   "source": [
    "test.append_game()"
   ]
  },
  {
   "cell_type": "code",
   "execution_count": 34,
   "metadata": {},
   "outputs": [
    {
     "data": {
      "text/plain": [
       "['bleh']"
      ]
     },
     "execution_count": 34,
     "metadata": {},
     "output_type": "execute_result"
    }
   ],
   "source": [
    "test.game"
   ]
  },
  {
   "cell_type": "code",
   "execution_count": null,
   "metadata": {},
   "outputs": [],
   "source": []
  }
 ],
 "metadata": {
  "kernelspec": {
   "display_name": "Python 3",
   "language": "python",
   "name": "python3"
  },
  "language_info": {
   "codemirror_mode": {
    "name": "ipython",
    "version": 3
   },
   "file_extension": ".py",
   "mimetype": "text/x-python",
   "name": "python",
   "nbconvert_exporter": "python",
   "pygments_lexer": "ipython3",
   "version": "3.6.4"
  }
 },
 "nbformat": 4,
 "nbformat_minor": 2
}
