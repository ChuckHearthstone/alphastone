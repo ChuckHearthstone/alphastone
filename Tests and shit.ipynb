{
 "cells": [
  {
   "cell_type": "code",
   "execution_count": 1,
   "metadata": {},
   "outputs": [],
   "source": [
    "from fireplace.game import Game\n",
    "from fireplace.player import Player\n",
    "from fireplace.utils import random_draft\n",
    "from fireplace import cards\n",
    "from fireplace import actions\n",
    "from fireplace.exceptions import GameOver, InvalidAction\n",
    "from hearthstone.enums import CardClass, CardType\n",
    "import random\n",
    "import numpy as np\n",
    "import sys"
   ]
  },
  {
   "cell_type": "code",
   "execution_count": 2,
   "metadata": {},
   "outputs": [
    {
     "name": "stderr",
     "output_type": "stream",
     "text": [
      "[fireplace.__init__]: Initializing card database\n",
      "[fireplace.__init__]: Merged 4139 cards\n"
     ]
    }
   ],
   "source": [
    "cards.db.initialize()"
   ]
  },
  {
   "cell_type": "code",
   "execution_count": 3,
   "metadata": {},
   "outputs": [],
   "source": [
    "def setup_game():\n",
    "    \"\"\"\n",
    "    initializes a game between two players\n",
    "    Returns:\n",
    "        game: A game entity representing the start of the game after the mulligan phase\n",
    "    \"\"\"\n",
    "\n",
    "    #choose classes (priest, rogue, shaman, warlock)\n",
    "    p1 = random.randint(6, 9)\n",
    "    p2 = random.randint(6, 9)\n",
    "    #initialize players and randomly draft decks\n",
    "    #pdb.set_trace()\n",
    "    deck1 = random_draft(CardClass(p1))\n",
    "    deck2 = random_draft(CardClass(p2))\n",
    "    player1 = Player(\"Player1\", deck1, CardClass(p1).default_hero)\n",
    "    player2 = Player(\"Player2\", deck2, CardClass(p2).default_hero)\n",
    "    #begin the game\n",
    "    game = Game(players=(player1, player2))\n",
    "    game.start()\n",
    "\n",
    "    #Skip mulligan for now\n",
    "    for player in game.players:\n",
    "        cards_to_mulligan = random.sample(player.choice.cards, 0)\n",
    "        player.choice.choose(*cards_to_mulligan)\n",
    "\n",
    "    return game\n"
   ]
  },
  {
   "cell_type": "code",
   "execution_count": 4,
   "metadata": {},
   "outputs": [],
   "source": [
    "def get_actions(player):\n",
    "    \"\"\"\n",
    "    generate a list of tuples representing all valid actions\n",
    "    format:\n",
    "        (actiontype, index, target)\n",
    "    \"\"\"\n",
    "\n",
    "    actions = []\n",
    "\n",
    "    #If the player is being given a choice, return only valid choices\n",
    "    if player.choice:\n",
    "        for card in player.choice.cards:\n",
    "            actions.append((\"choose\", card, None))\n",
    "\n",
    "    else:\n",
    "        # add cards in hand\n",
    "        for index, card in enumerate(player.hand):\n",
    "            if card.is_playable():\n",
    "                # summonable minions (note some require a target on play)\n",
    "                if card.type == 4:\n",
    "                    if card.has_target():\n",
    "                        for target in card.targets:\n",
    "                            actions.append((\"summon\", index, target))\n",
    "                    else:\n",
    "                        actions.append((\"summon\", index, None, None))\n",
    "                # playable spells and weapons\n",
    "                elif card.has_target():\n",
    "                    for target in card.targets:\n",
    "                        actions.append((\"spell\", index, target))\n",
    "                else:\n",
    "                    actions.append((\"spell\", index, None))\n",
    "        # add targets avalible to minions that can attack\n",
    "        for position, minion in enumerate(player.field):\n",
    "            if minion.can_attack():\n",
    "                for target in minion.attack_targets:\n",
    "                    actions.append((\"attack\", position, target))\n",
    "        # add hero power and targets if applicable\n",
    "        if player.hero.power.is_usable():\n",
    "            if player.hero.power.has_target():\n",
    "                for target in player.hero.power.targets:\n",
    "                    actions.append((\"hero_power\", None, target))\n",
    "            else:\n",
    "                actions.append((\"hero_power\", None, None))\n",
    "        # add hero attacking if applicable\n",
    "        if player.hero.can_attack():\n",
    "            for target in player.hero.attack_targets:\n",
    "                actions.append((\"hero_attack\", None, target))\n",
    "        # add end turn\n",
    "        actions.append((\"end_turn\", None, None))\n",
    "\n",
    "    return actions"
   ]
  },
  {
   "cell_type": "code",
   "execution_count": 5,
   "metadata": {},
   "outputs": [
    {
     "name": "stderr",
     "output_type": "stream",
     "text": [
      "[fireplace.entity]: Setting up game Game(players=(Player(name='Player1', hero=None), Player(name='Player2', hero=None)))\n",
      "[fireplace.entity]: Tossing the coin... Player2 wins!\n",
      "[fireplace.actions]: Player(name='Player1', hero=<Hero ('Thrall')>) triggering <TargetedAction: Summon(<Summon.CARD>=<HeroPower ('Totemic Call')>)> targeting [Player(name='Player1', hero=<Hero ('Thrall')>)]\n",
      "[fireplace.actions]: Player1 summons [<HeroPower ('Totemic Call')>]\n",
      "[fireplace.entity]: Empty stack, refreshing auras and processing deaths\n",
      "[fireplace.actions]: Player(name='Player1', hero=<Hero ('Thrall')>) triggering <TargetedAction: Summon(<Summon.CARD>=<Hero ('Thrall')>)> targeting [Player(name='Player1', hero=<Hero ('Thrall')>)]\n",
      "[fireplace.actions]: Player1 summons [<Hero ('Thrall')>]\n",
      "[fireplace.entity]: Empty stack, refreshing auras and processing deaths\n",
      "[fireplace.entity]: Player(name='Player1', hero=<Hero ('Thrall')>) shuffles their deck\n",
      "[fireplace.card]: <Spell ('Crushing Hand')> moves from <Zone.DECK: 2> to <Zone.HAND: 3>\n",
      "[fireplace.card]: <Spell ('Ancestral Spirit')> moves from <Zone.DECK: 2> to <Zone.HAND: 3>\n",
      "[fireplace.card]: <Minion ('Neptulon')> moves from <Zone.DECK: 2> to <Zone.HAND: 3>\n",
      "[fireplace.card]: <Spell ('Spirit Echo')> moves from <Zone.DECK: 2> to <Zone.HAND: 3>\n",
      "[fireplace.actions]: Player(name='Player2', hero=<Hero (\"Gul'dan\")>) triggering <TargetedAction: Summon(<Summon.CARD>=<HeroPower ('Life Tap')>)> targeting [Player(name='Player2', hero=<Hero (\"Gul'dan\")>)]\n",
      "[fireplace.actions]: Player2 summons [<HeroPower ('Life Tap')>]\n",
      "[fireplace.entity]: Empty stack, refreshing auras and processing deaths\n",
      "[fireplace.actions]: Player(name='Player2', hero=<Hero (\"Gul'dan\")>) triggering <TargetedAction: Summon(<Summon.CARD>=<Hero (\"Gul'dan\")>)> targeting [Player(name='Player2', hero=<Hero (\"Gul'dan\")>)]\n",
      "[fireplace.actions]: Player2 summons [<Hero (\"Gul'dan\")>]\n",
      "[fireplace.entity]: Empty stack, refreshing auras and processing deaths\n",
      "[fireplace.entity]: Player(name='Player2', hero=<Hero (\"Gul'dan\")>) shuffles their deck\n",
      "[fireplace.card]: <Spell ('Forbidden Ritual')> moves from <Zone.DECK: 2> to <Zone.HAND: 3>\n",
      "[fireplace.card]: <Minion ('Krul the Unshackled')> moves from <Zone.DECK: 2> to <Zone.HAND: 3>\n",
      "[fireplace.card]: <Minion ('Crystalweaver')> moves from <Zone.DECK: 2> to <Zone.HAND: 3>\n",
      "[fireplace.entity]: Entering mulligan phase\n",
      "[fireplace.entity]: Empty stack, refreshing auras and processing deaths\n",
      "[fireplace.entity]: Player(name='Player1', hero=<Hero ('Thrall')>) shuffles their deck\n",
      "[fireplace.entity]: Empty stack, refreshing auras and processing deaths\n",
      "[fireplace.entity]: Player(name='Player2', hero=<Hero (\"Gul'dan\")>) shuffles their deck\n",
      "[fireplace.entity]: Player1 gets The Coin (GAME_005)\n",
      "[fireplace.actions]: Player(name='Player1', hero=<Hero ('Thrall')>) triggering <TargetedAction: Give(<Give.CARD>='GAME_005')> targeting [Player(name='Player1', hero=<Hero ('Thrall')>)]\n",
      "[fireplace.actions]: Giving [<Spell ('The Coin')>] to Player1\n",
      "[fireplace.card]: <Spell ('The Coin')> moves from <Zone.SETASIDE: 6> to <Zone.HAND: 3>\n",
      "[fireplace.entity]: Empty stack, refreshing auras and processing deaths\n",
      "[fireplace.entity]: Player2 begins turn 1\n",
      "[fireplace.entity]: Player2 is now at 1 mana crystals\n",
      "[fireplace.actions]: Player(name='Player2', hero=<Hero (\"Gul'dan\")>) triggering <TargetedAction: Draw()> targeting [Player(name='Player2', hero=<Hero (\"Gul'dan\")>)]\n",
      "[fireplace.entity]: Player2 draws <Spell ('Drain Life')>\n",
      "[fireplace.card]: <Spell ('Drain Life')> moves from <Zone.DECK: 2> to <Zone.HAND: 3>\n",
      "[fireplace.entity]: Empty stack, refreshing auras and processing deaths\n"
     ]
    }
   ],
   "source": [
    "game = setup_game()"
   ]
  },
  {
   "cell_type": "code",
   "execution_count": 6,
   "metadata": {},
   "outputs": [
    {
     "name": "stdout",
     "output_type": "stream",
     "text": [
      "0 Forbidden Ritual\n",
      "1 Krul the Unshackled\n",
      "2 Crystalweaver\n",
      "3 Drain Life\n"
     ]
    }
   ],
   "source": [
    "for index, card in enumerate(game.player1.hand):\n",
    "    print(index, card)"
   ]
  },
  {
   "cell_type": "code",
   "execution_count": 8,
   "metadata": {},
   "outputs": [
    {
     "ename": "AttributeError",
     "evalue": "'Spell' object has no attribute 'has_target'",
     "output_type": "error",
     "traceback": [
      "\u001b[0;31m---------------------------------------------------------------------------\u001b[0m",
      "\u001b[0;31mAttributeError\u001b[0m                            Traceback (most recent call last)",
      "\u001b[0;32m<ipython-input-8-a4fe1a6414d9>\u001b[0m in \u001b[0;36m<module>\u001b[0;34m()\u001b[0m\n\u001b[0;32m----> 1\u001b[0;31m \u001b[0mactions\u001b[0m \u001b[0;34m=\u001b[0m \u001b[0mget_actions\u001b[0m\u001b[0;34m(\u001b[0m\u001b[0mgame\u001b[0m\u001b[0;34m.\u001b[0m\u001b[0mplayer1\u001b[0m\u001b[0;34m)\u001b[0m\u001b[0;34m\u001b[0m\u001b[0m\n\u001b[0m",
      "\u001b[0;32m<ipython-input-4-575c56db3140>\u001b[0m in \u001b[0;36mget_actions\u001b[0;34m(player)\u001b[0m\n\u001b[1;32m     25\u001b[0m                         \u001b[0mactions\u001b[0m\u001b[0;34m.\u001b[0m\u001b[0mappend\u001b[0m\u001b[0;34m(\u001b[0m\u001b[0;34m(\u001b[0m\u001b[0;34m\"summon\"\u001b[0m\u001b[0;34m,\u001b[0m \u001b[0mindex\u001b[0m\u001b[0;34m,\u001b[0m \u001b[0;32mNone\u001b[0m\u001b[0;34m,\u001b[0m \u001b[0;32mNone\u001b[0m\u001b[0;34m)\u001b[0m\u001b[0;34m)\u001b[0m\u001b[0;34m\u001b[0m\u001b[0m\n\u001b[1;32m     26\u001b[0m                 \u001b[0;31m# playable spells and weapons\u001b[0m\u001b[0;34m\u001b[0m\u001b[0;34m\u001b[0m\u001b[0m\n\u001b[0;32m---> 27\u001b[0;31m                 \u001b[0;32melif\u001b[0m \u001b[0mcard\u001b[0m\u001b[0;34m.\u001b[0m\u001b[0mhas_target\u001b[0m\u001b[0;34m(\u001b[0m\u001b[0;34m)\u001b[0m\u001b[0;34m:\u001b[0m\u001b[0;34m\u001b[0m\u001b[0m\n\u001b[0m\u001b[1;32m     28\u001b[0m                     \u001b[0;32mfor\u001b[0m \u001b[0mtarget\u001b[0m \u001b[0;32min\u001b[0m \u001b[0mcard\u001b[0m\u001b[0;34m.\u001b[0m\u001b[0mtargets\u001b[0m\u001b[0;34m:\u001b[0m\u001b[0;34m\u001b[0m\u001b[0m\n\u001b[1;32m     29\u001b[0m                         \u001b[0mactions\u001b[0m\u001b[0;34m.\u001b[0m\u001b[0mappend\u001b[0m\u001b[0;34m(\u001b[0m\u001b[0;34m(\u001b[0m\u001b[0;34m\"spell\"\u001b[0m\u001b[0;34m,\u001b[0m \u001b[0mindex\u001b[0m\u001b[0;34m,\u001b[0m \u001b[0mtarget\u001b[0m\u001b[0;34m)\u001b[0m\u001b[0;34m)\u001b[0m\u001b[0;34m\u001b[0m\u001b[0m\n",
      "\u001b[0;31mAttributeError\u001b[0m: 'Spell' object has no attribute 'has_target'"
     ]
    }
   ],
   "source": [
    "actions = get_actions(game.player1)"
   ]
  },
  {
   "cell_type": "code",
   "execution_count": 9,
   "metadata": {},
   "outputs": [
    {
     "data": {
      "text/plain": [
       "<module 'fireplace.actions' from '/home/sirmammingtonham/hearthai/hearthbot/fireplace/actions.py'>"
      ]
     },
     "execution_count": 9,
     "metadata": {},
     "output_type": "execute_result"
    }
   ],
   "source": [
    "actions"
   ]
  },
  {
   "cell_type": "code",
   "execution_count": 10,
   "metadata": {},
   "outputs": [],
   "source": [
    "def get_state(game, player):\n",
    "    \"\"\"\n",
    "    Args:\n",
    "        game, the current game object\n",
    "        player, the player from whose perspective to analyze the state\n",
    "    return:\n",
    "        a numpy array features extracted from the\n",
    "        supplied game.\n",
    "    \"\"\"\n",
    "\n",
    "    p1 = player\n",
    "    p2 = player.opponent\n",
    "    s = np.zeros(263, dtype=np.int32)\n",
    "\n",
    "    #0-9 player1 class, we subtract 1 here because the classes are from 1 to 10\n",
    "    s[p1.hero.card_class-1] = 1\n",
    "    #10-19 player2 class\n",
    "    s[10 + p2.hero.card_class-1] = 1\n",
    "    i = 20\n",
    "    # 20-21: current health of current player, then opponent\n",
    "    s[i] = p1.hero.health\n",
    "    s[i + 1] = p2.hero.health\n",
    "\n",
    "    # 22: hero power usable y/n\n",
    "    s[i + 2] = p1.hero.power.is_usable()*1\n",
    "    # 23-24: # of mana crystals for you opponent\n",
    "    s[i + 3] = p1.max_mana\n",
    "    s[i + 4] = p2.max_mana\n",
    "    # 25: # of crystals still avalible\n",
    "    s[i + 5] = p1.mana\n",
    "    #26-31: weapon equipped y/n, pow., dur. for you, then opponent\n",
    "    s[i + 6] = 0 if p1.weapon is None else 1\n",
    "    s[i + 7] = 0 if p1.weapon is None else p1.weapon.damage\n",
    "    s[i + 8] = 0 if p1.weapon is None else p1.weapon.durability\n",
    "\n",
    "    s[i + 9] = 0 if p2.weapon is None else 1\n",
    "    s[i + 10] = 0 if p2.weapon is None else p2.weapon.damage\n",
    "    s[i + 11] = 0 if p2.weapon is None else p2.weapon.durability\n",
    "\n",
    "    # 32: number of cards in opponents hand\n",
    "    s[i + 12] = len(p2.hand)\n",
    "    #in play minions\n",
    "\n",
    "    i = 33\n",
    "    #33-102, your monsters on the field\n",
    "    p1_minions = len(p1.field)\n",
    "    for j in range(0, 7):\n",
    "        if j < p1_minions:\n",
    "            # filled y/n, pow, tough, current health, can attack\n",
    "            s[i] = 1\n",
    "            s[i + 1] = p1.field[j].atk\n",
    "            s[i + 2] = p1.field[j].max_health\n",
    "            s[i + 3] = p1.field[j].health\n",
    "            s[i + 4] = p1.field[j].can_attack()*1\n",
    "            # deathrattle, div shield, taunt, stealth y/n\n",
    "            s[i + 5] = p1.field[j].has_deathrattle*1\n",
    "            s[i + 6] = p1.field[j].divine_shield*1\n",
    "            s[i + 7] = p1.field[j].taunt*1\n",
    "            s[i + 8] = p1.field[j].stealthed*1\n",
    "            s[i + 9] = p1.field[j].silenced*1\n",
    "        i += 10\n",
    "\n",
    "    #103-172, enemy monsters on the field\n",
    "    p2_minions = len(p2.field)\n",
    "    for j in range(0, 7):\n",
    "        if j < p2_minions:\n",
    "            # filled y/n, pow, tough, current health, can attack\n",
    "            s[i] = 1\n",
    "            s[i + 1] = p2.field[j].atk\n",
    "            s[i + 2] = p2.field[j].max_health\n",
    "            s[i + 3] = p2.field[j].health\n",
    "            s[i + 4] = p2.field[j].can_attack()*1\n",
    "            # deathrattle, div shield, taunt, stealth y/n\n",
    "            s[i + 5] = p2.field[j].has_deathrattle*1\n",
    "            s[i + 6] = p2.field[j].divine_shield*1\n",
    "            s[i + 7] = p2.field[j].taunt*1\n",
    "            s[i + 8] = p2.field[j].stealthed*1\n",
    "            s[i + 9] = p2.field[j].silenced*1\n",
    "        i += 10\n",
    "\n",
    "    #in hand\n",
    "\n",
    "    #173-262, your cards in hand\n",
    "    p1_hand = len(p1.hand)\n",
    "    for j in range(0, 10):\n",
    "        if j < p1_hand:\n",
    "            #card y/n\n",
    "            s[i] = 1\n",
    "            # minion y/n, attk, hp, battlecry, div shield, deathrattle, taunt\n",
    "            s[i + 1] = 1 if p1.hand[j].type == 4 else 0\n",
    "            s[i + 2] = p1.hand[j].atk if s[i + 1] == 1 else 0\n",
    "            s[i + 2] = p1.hand[j].health if s[i + 1] == 1 else 0\n",
    "            s[i + 3] = p1.hand[j].divine_shield*1 if s[i + 1] == 1 else 0\n",
    "            s[i + 4] = p1.hand[j].has_deathrattle*1 if s[i + 1] == 1 else 0\n",
    "            s[i + 5] = p1.hand[j].taunt*1 if s[i + 1] == 1 else 0\n",
    "            # weapon y/n, spell y/n, cost\n",
    "            s[i + 6] = 1 if p1.hand[j].type == 7 else 0\n",
    "            s[i + 7] = 1 if p1.hand[j].type == 5 else 0\n",
    "            s[i + 8] = p1.hand[j].cost\n",
    "        i += 9\n",
    "\n",
    "    return s"
   ]
  },
  {
   "cell_type": "code",
   "execution_count": 11,
   "metadata": {},
   "outputs": [],
   "source": [
    "s = get_state(game, game.player1)"
   ]
  },
  {
   "cell_type": "code",
   "execution_count": 13,
   "metadata": {},
   "outputs": [
    {
     "data": {
      "text/plain": [
       "(263,)"
      ]
     },
     "execution_count": 13,
     "metadata": {},
     "output_type": "execute_result"
    }
   ],
   "source": [
    "s.shape"
   ]
  },
  {
   "cell_type": "code",
   "execution_count": 12,
   "metadata": {},
   "outputs": [
    {
     "name": "stdout",
     "output_type": "stream",
     "text": [
      "0 Cutpurse\n",
      "1 Razorpetal Volley\n",
      "2 Runeforge Haunter\n",
      "3 Blade of C'Thun\n"
     ]
    }
   ],
   "source": [
    "for index, cards in enumerate(game.player1.hand):\n",
    "    print(index, cards)"
   ]
  },
  {
   "cell_type": "code",
   "execution_count": 13,
   "metadata": {},
   "outputs": [
    {
     "data": {
      "text/plain": [
       "263"
      ]
     },
     "execution_count": 13,
     "metadata": {},
     "output_type": "execute_result"
    }
   ],
   "source": [
    "len(s)"
   ]
  },
  {
   "cell_type": "code",
   "execution_count": 14,
   "metadata": {},
   "outputs": [
    {
     "data": {
      "text/plain": [
       "5"
      ]
     },
     "execution_count": 14,
     "metadata": {},
     "output_type": "execute_result"
    }
   ],
   "source": [
    "s[32]"
   ]
  },
  {
   "cell_type": "code",
   "execution_count": 15,
   "metadata": {},
   "outputs": [
    {
     "name": "stdout",
     "output_type": "stream",
     "text": [
      "0 Raza the Chained\n",
      "1 Pint-Size Potion\n",
      "2 Holy Fire\n",
      "3 Shadow Word: Pain\n",
      "4 The Coin\n"
     ]
    }
   ],
   "source": [
    "for index, cards in enumerate(game.player2.hand):\n",
    "    print(index, cards)"
   ]
  },
  {
   "cell_type": "code",
   "execution_count": null,
   "metadata": {},
   "outputs": [],
   "source": []
  },
  {
   "cell_type": "code",
   "execution_count": 16,
   "metadata": {},
   "outputs": [
    {
     "data": {
      "text/plain": [
       "array([ 0,  0,  0,  0,  0,  0,  1,  0,  0,  0,  0,  0,  0,  0,  0,  1,  0,\n",
       "        0,  0,  0, 30, 30,  0,  1,  0,  1,  0,  0,  0,  0,  0,  0,  5,  0,\n",
       "        0,  0,  0,  0,  0,  0,  0,  0,  0,  0,  0,  0,  0,  0,  0,  0,  0,\n",
       "        0,  0,  0,  0,  0,  0,  0,  0,  0,  0,  0,  0,  0,  0,  0,  0,  0,\n",
       "        0,  0,  0,  0,  0,  0,  0,  0,  0,  0,  0,  0,  0,  0,  0,  0,  0,\n",
       "        0,  0,  0,  0,  0,  0,  0,  0,  0,  0,  0,  0,  0,  0,  0,  0,  0,\n",
       "        0,  0,  0,  0,  0,  0,  0,  0,  0,  0,  0,  0,  0,  0,  0,  0,  0,\n",
       "        0,  0,  0,  0,  0,  0,  0,  0,  0,  0,  0,  0,  0,  0,  0,  0,  0,\n",
       "        0,  0,  0,  0,  0,  0,  0,  0,  0,  0,  0,  0,  0,  0,  0,  0,  0,\n",
       "        0,  0,  0,  0,  0,  0,  0,  0,  0,  0,  0,  0,  0,  0,  0,  0,  0,\n",
       "        0,  0,  0,  1,  1,  2,  0,  0,  0,  0,  0,  2,  1,  0,  0,  0,  0,\n",
       "        0,  0,  1,  2,  1,  1,  3,  0,  0,  0,  0,  0,  4,  1,  1,  4,  0,\n",
       "        0,  0,  0,  0,  9,  0,  0,  0,  0,  0,  0,  0,  0,  0,  0,  0,  0,\n",
       "        0,  0,  0,  0,  0,  0,  0,  0,  0,  0,  0,  0,  0,  0,  0,  0,  0,\n",
       "        0,  0,  0,  0,  0,  0,  0,  0,  0,  0,  0,  0,  0,  0,  0,  0,  0,\n",
       "        0,  0,  0,  0,  0,  0,  0,  0], dtype=int32)"
      ]
     },
     "execution_count": 16,
     "metadata": {},
     "output_type": "execute_result"
    }
   ],
   "source": [
    "s"
   ]
  },
  {
   "cell_type": "code",
   "execution_count": 17,
   "metadata": {},
   "outputs": [
    {
     "data": {
      "text/plain": [
       "(263,)"
      ]
     },
     "execution_count": 17,
     "metadata": {},
     "output_type": "execute_result"
    }
   ],
   "source": [
    "s.shape"
   ]
  },
  {
   "cell_type": "code",
   "execution_count": null,
   "metadata": {},
   "outputs": [],
   "source": []
  }
 ],
 "metadata": {
  "kernelspec": {
   "display_name": "Python 3",
   "language": "python",
   "name": "python3"
  },
  "language_info": {
   "codemirror_mode": {
    "name": "ipython",
    "version": 3
   },
   "file_extension": ".py",
   "mimetype": "text/x-python",
   "name": "python",
   "nbconvert_exporter": "python",
   "pygments_lexer": "ipython3",
   "version": "3.6.4"
  }
 },
 "nbformat": 4,
 "nbformat_minor": 2
}
